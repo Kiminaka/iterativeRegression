{
 "cells": [
  {
   "cell_type": "code",
   "execution_count": 1,
   "metadata": {
    "collapsed": false
   },
   "outputs": [],
   "source": [
    "import visualize as viz\n",
    "%matplotlib inline\n",
    "from db import DB\n",
    "import numpy as np"
   ]
  },
  {
   "cell_type": "code",
   "execution_count": 2,
   "metadata": {
    "collapsed": false,
    "scrolled": false
   },
   "outputs": [
    {
     "data": {
      "text/plain": [
       "717"
      ]
     },
     "execution_count": 2,
     "metadata": {},
     "output_type": "execute_result"
    }
   ],
   "source": [
    "database = DB(profile='data_warehouse')\n",
    "\n",
    "q = database.query('select * from kim.weights_outlier')\n",
    "\n",
    "num_id = [x for x in set(q.account_id)]\n",
    "len(num_id)"
   ]
  },
  {
   "cell_type": "code",
   "execution_count": 2,
   "metadata": {
    "collapsed": false,
    "scrolled": true
   },
   "outputs": [],
   "source": [
    "import matplotlib.pyplot as plt\n",
    "%matplotlib inline\n",
    "\n",
    "for i, acnt_id in enumerate(num_id[500:]):    \n",
    "# for i, acnt_id in enumerate([64293]):\n",
    "    print 'df {}--acount:{}----------------------------------------------------------------'.format(i, acnt_id)\n",
    "    viz.compare_plots(q[q.account_id == acnt_id])\n",
    "#     plt.figure(figsize=(15,2))\n",
    "#     plt.plot_date(q[q.account_id == acnt_id]['weighed_at'],q[q.account_id == acnt_id]['value_prediction_w16'], fmt='ro')\n",
    "#     plt.xticks(rotation='vertical')\n"
   ]
  },
  {
   "cell_type": "code",
   "execution_count": null,
   "metadata": {
    "collapsed": true
   },
   "outputs": [],
   "source": [
    "plt.legend()"
   ]
  },
  {
   "cell_type": "code",
   "execution_count": 68,
   "metadata": {
    "collapsed": false
   },
   "outputs": [],
   "source": [
    "database = DB(profile='kairos')\n",
    "a = database.query('''\n",
    "Select CAST(created_at as date), count(DISTINCT account_id)\n",
    "From public.weights\n",
    "Group By CAST(created_at as date)\n",
    "ORDER BY 1 desc\n",
    "LIMIT 100;\n",
    "''')"
   ]
  },
  {
   "cell_type": "code",
   "execution_count": 76,
   "metadata": {
    "collapsed": false,
    "scrolled": true
   },
   "outputs": [
    {
     "data": {
      "text/plain": [
       "20560.23"
      ]
     },
     "execution_count": 76,
     "metadata": {},
     "output_type": "execute_result"
    }
   ],
   "source": [
    "np.mean(a['count'])"
   ]
  },
  {
   "cell_type": "code",
   "execution_count": 24,
   "metadata": {
    "collapsed": false,
    "scrolled": false
   },
   "outputs": [
    {
     "data": {
      "text/plain": [
       "(21.416906249999997, 'days')"
      ]
     },
     "execution_count": 24,
     "metadata": {},
     "output_type": "execute_result"
    }
   ],
   "source": [
    "(1.5*60 * 20560.23)/60/60/24, 'days' # first iteration"
   ]
  },
  {
   "cell_type": "code",
   "execution_count": 92,
   "metadata": {
    "collapsed": false,
    "scrolled": false
   },
   "outputs": [
    {
     "data": {
      "text/plain": [
       "(0.9518625, 'days')"
      ]
     },
     "execution_count": 92,
     "metadata": {},
     "output_type": "execute_result"
    }
   ],
   "source": [
    "(4 * 20560.23)/60/60/24, 'days' #2.4 per 1, 1-2 weights "
   ]
  }
 ],
 "metadata": {
  "kernelspec": {
   "display_name": "Python 2",
   "language": "python",
   "name": "python2"
  },
  "language_info": {
   "codemirror_mode": {
    "name": "ipython",
    "version": 2
   },
   "file_extension": ".py",
   "mimetype": "text/x-python",
   "name": "python",
   "nbconvert_exporter": "python",
   "pygments_lexer": "ipython2",
   "version": "2.7.11"
  }
 },
 "nbformat": 4,
 "nbformat_minor": 0
}
